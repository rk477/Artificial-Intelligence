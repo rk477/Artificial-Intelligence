{
 "cells": [
  {
   "cell_type": "markdown",
   "metadata": {},
   "source": [
    "<div class=\"alert alert-block alert-danger\" style=\"color:black\"><h2>THIS WORKBOOK IS ASSESSED</h2>\n",
    "    Each activity details how many marks it is worth (out of 100), and how marks are awarded.<br>\n",
    "    As before, you will be submitting a file of python code for marking and the notebooks use a two-stage process to help you.<br>\n",
    "    As you work through the activities in the workbook:\n",
    "    <ol>\n",
    "        <li>  <em>Jupyter <code>%%writefile</code> cell magics</em>  save your code to a file\"studentcode/student_wb3\" as you run cells after editing</li>\n",
    "        <li> Subsequent cells reload your code from that file to test the latest version .</li>\n",
    "    </ol>\n",
    "    When you are satisfied that you have completed the activities as required you should:\n",
    "    <ol>\n",
    "        <li> Restart the kernel and do a single run through of every cell in turn  so <code>studentcode/student_wb3.py</code> has no duplicated definitions.</li>\n",
    "        <li> Run the notebook <b>selfchecker.ipynb</b> to check for syntax errors when called from our marking code, and edit as needed</li>\n",
    "        <li>Download <code>studentcode/student_wb3.py</code> to your local machine.</li>\n",
    "        <li>Follow the links in the <i>Assessments</i> folder on Blackboard to submit it for automatic marking and feedback.<br>\n",
    "        This may involve answering some multiple choices questions as well as submitting your code.</li>\n",
    "        <li><b>Read the feedback provided</b> and use it to improve your work.<br>\n",
    "            <b>You will have four attempts to submit each notebook.</b></li>\n",
    "    </ol>\n",
    "<h3> Important instructions about formatting your code cells</h3>\n",
    "<ol>\n",
    "   <li>Where you are asked to insert code, or to complete a code skeleton, <b>you must only put code where indicated</b>.<br>\n",
    "    Otherwise the marking server - or the plagiarism detection we will run later - will not be able to parse and accept them.<br>\n",
    "    So your code should only go:\n",
    "       <ul> \n",
    "           <li><b>After</b> the lines marked <code># ====> insert your code below here </code></li>\n",
    "           <li> <b>Before</b> the lines marked <code># <==== insert your code above here</code></li>\n",
    "      </ul>\n",
    "   </li>\n",
    "    <li>The marking server will reject any files containing imports except \"approvedimports\".<br>\n",
    "               The marking server has its own copy of that file, so there is no point editing the one we give you.</li>\n",
    "    <li>Even in comments you must not use any of these banned words: <em>system, read,import</li>\n",
    "</ol>\n",
    "\n",
    "</div>"
   ]
  },
  {
   "cell_type": "markdown",
   "metadata": {},
   "source": [
    "# Workbook 3: Informed Search Algorithms\n",
    "\n",
    "Overview of activities and objectives of this workbook:\n",
    "\n",
    "1. The first part of this workbook will apply the Depth-first and Breadth-first algorithms you created last week to a new problem - navigating a maze (**If you have not done worksheet 2, go back and do that first**).\n",
    "    - A maze is a simple and easy-to-visualise optimisation problem to illustrate the properties of different search algorithms.\n",
    "    - A maze has a starting position and the desired endpoint (goal), so we need to find a sequence of inputs that takes us from the start to the goal in as few moves as possible.\n",
    "    - A maze can be modelled like a graph, just like fox-chicken-grain and the combination lock.\n",
    "\n",
    "2. The second part of this workbook will implement the Best-first and A-Star search algorithms.\n",
    "    - We will do this in a similar way as Depth-first and Breadth-first, by overriding the `select_and_move_from_openlist()` function of the `SingleMemberSearch` class.\n",
    "    - Depth-first and Breadth-first are both **uninformed** search algorithms, which means they do not consider the *quality* of a candidate solution.\n",
    "    - Best-first and A-Star are both **informed** search algorithms, which means they do consider the *quality* of a candidate solution.\n",
    "    - In the case of a maze, the quality could simply be the distance the candidate solution is to the goal (Best-first), or the number of moves so far + the distance the candidate solution is to the goal (A-Star).\n",
    "\n",
    "3. The third part of this workbook will test your understanding of these algorithms and compare their behaviour.\n",
    "    - And give you experience of evaluating the efficiency of an algorithm for a problem (in this case path-planning) by creating different instances of a problem (mazes) to *stress-test* different methods."
   ]
  },
  {
   "cell_type": "markdown",
   "metadata": {},
   "source": [
    "<div style=\"background-color:black;width:100%;\"></div>"
   ]
  },
  {
   "cell_type": "markdown",
   "metadata": {},
   "source": [
    "# Part 1: Solving a maze with breadth-first and depth-first search\n",
    "\n",
    "As discussed in the lectures, we consider a general generate-and-test framework for search that can be easily adapted to provide algorithms with different behaviours and applied to many different problems.\n",
    "\n",
    "This is illustrated in the flowchart below.\n",
    "\n",
    "<img src = \"figures/generate-and-test-framework.png\">\n",
    "\n",
    "In this week's lecture presentation (available in the notebook **W3_Informed_Search_Algorithms.ipynb**)\n",
    "we discussed how to create different algorithms, with different behaviours, just by adapting the function **select_and_move_from_openlist()**.\n",
    "\n",
    "In last week's lab session you should have:\n",
    "1. Got familiar with a general implementation framework we provided with classes for:\n",
    "  - **SingleMemberSearch**\n",
    "  - **Problem**\n",
    "  - **CandidateSolution**\n",
    "2. Created your own search subclasses **DepthfirstSearch** and **BreadthFirstSearch** by over-riding the function **select_and_move_from_openlist()**\n",
    "3. Applied those algorithms to two subclasses of problem: **CombinationLock** and **FoxChickenGrain**\n",
    "\n",
    "This Week you can apply those algorithms to the problem of solving a maze.\n",
    "Run the following cells:\n",
    "1. The first ones import the maze and other libraries we need\n",
    "2. The second defines two functions for running a search algorithm on a maze and also testing different search algorithms. The function `test_on_maze()` compares the behaviour of your implementation with mine - they should match.\n",
    "\n",
    "<div class=\"alert alert-block alert-danger\" style=\"color:black\"><h2>If you are photosensitive or find the screen flickering disturbing</h2>\n",
    "    <b>Apologies!</b>There is a trade-off between how long to pause after each move which affects the time taken to do a run, and how likely the screen is to flicker. It can be hard to judge that with a distributed server. To change this:\n",
    "    <ul>\n",
    "        <li>open the file <i>maze.py</i> in the jupyter editor</li>\n",
    "        <li>increase the default value of <code>refresh_rate</code> on line 107li>\n",
    "        <li>rerun the first cell below to reload the Maze class</li>\n",
    "      </ul>\n",
    "</div>"
   ]
  },
  {
   "cell_type": "code",
   "execution_count": 1,
   "metadata": {},
   "outputs": [],
   "source": [
    "# YOU MUST RUN THIS CELL BUT DO NOT EDIT IT OR YOU WILL BREAK THE NOTEBOOK\n",
    "from importlib import reload\n",
    "import sys, os\n",
    "\n",
    "# Import from the common directory\n",
    "sys.path.append('../common')\n",
    "sys.path.append('studentcode')\n",
    "\n",
    "from singlemembersearch import SingleMemberSearch\n",
    "from candidatesolution import CandidateSolution\n",
    "\n",
    "# doing it this way lets you edit maze.py then re-run this cell, without needing to restarting the kernel\n",
    "import maze\n",
    "reload(maze)\n",
    "from maze import Maze"
   ]
  },
  {
   "cell_type": "code",
   "execution_count": 2,
   "metadata": {
    "tags": []
   },
   "outputs": [],
   "source": [
    "# Optional\n",
    "# Running this cell gives you a list of class methods and what they do\n",
    "#help(Maze)"
   ]
  },
  {
   "cell_type": "code",
   "execution_count": 3,
   "metadata": {
    "tags": []
   },
   "outputs": [],
   "source": [
    "# You MUST run this cell\n",
    "# run_on_maze() defines the method that tries an algorithm on a maze\n",
    "def run_on_maze(\n",
    "    algorithm: SingleMemberSearch, \n",
    "    show_runlog: bool = False, \n",
    "    mazefile: str = \"maze.txt\"\n",
    "     ) -> tuple[int, int]:\n",
    "    \"\"\" function that tries to run a search algorithm on a maze problem\n",
    "    Parameters\n",
    "    ----------\n",
    "    algorithm: name of a class of search algorithm\n",
    "    show_runlog (bool) whether to print debugging information\n",
    "    mazefile (str): name of the file containing  definition of a specific maze instance\n",
    "    \"\"\"\n",
    "    \n",
    "    mymaze = Maze(mazefile=mazefile)\n",
    "    mysearch = algorithm(mymaze, constructive=True, max_attempts=1500)\n",
    "    name = mysearch.__str__()\n",
    "    trials = -1\n",
    "    moves = -1\n",
    "    found = mysearch.run_search()\n",
    "    if found:\n",
    "        trials = mysearch.trials\n",
    "        moves = len(mysearch.result)\n",
    "        print(\n",
    "            f\"search using {name} algorithm successful after {trials} attempts\"\n",
    "            f\" length of path is {moves} moves.\"\n",
    "        )\n",
    "    else:\n",
    "        print(\"solution not found in time allowed\")\n",
    "        if show_runlog:\n",
    "            print(mysearch.runlog)\n",
    "\n",
    "    del mymaze\n",
    "    return trials, moves, name\n",
    "\n",
    "jims_results: dict = {\n",
    "    \"depth-first\": [408, 77],\n",
    "    \"breadth-first\": [1068, 57],\n",
    "    \"local search\": [-1, -1],\n",
    "    \"best-first\": [856, 57],\n",
    "    \"A Star\": [812, 57],\n",
    "}\n",
    "\n",
    "# test_on_maze() is a function that tests an algorithms on a maze\n",
    "def test_on_maze(algorithm: SingleMemberSearch, mazefile=\"maze.txt\"):\n",
    "    trials, moves, name = run_on_maze(algorithm, mazefile)\n",
    "    correct_trials, correct_moves = jims_results[name]\n",
    "\n",
    "    print(f\"testing algorithm {name} on the simple maze.\")\n",
    "    if trials == -1 or moves == -1:\n",
    "        errstr1 = \"Error, the test suggests your code is not reaching the goal\"\n",
    "        errstr2 = \"Error, the test suggests your code is not reaching the goal\"\n",
    "\n",
    "    else:\n",
    "        errstr1 = (\n",
    "            f\"Error: your code is using {trials} trials \"\n",
    "            f\" but should only need {correct_trials}.\\n\"\n",
    "        )\n",
    "        errstr2 = (\n",
    "            f\"Error: your code finds a solution with {moves} \"\n",
    "            f\" but should only need {correct_moves}.\\n\"\n",
    "        )\n",
    "    assert trials == correct_trials, errstr1\n",
    "    assert moves == correct_moves, errstr2\n",
    "    print(\"test passed\")"
   ]
  },
  {
   "cell_type": "markdown",
   "metadata": {},
   "source": [
    "<div class=\"alert alert-block alert-info\" style=\"color:black\"><h2>Activity 1: Testing your Depth-first and Breadth-First Search code on the maze</h2>\n",
    "    <h3><b>30 marks</b> - 15 for each algorithm if it passes the test below on the marking server</h3>\n",
    "    <b>How to get started:</b>\n",
    "    <ol>\n",
    "        <li> Copy-paste your class code for <code>DepthFirstSearch</code> from workbook2 into the empty cell below. Then run that cell and the one after so you can see if your code solves the maze.</li>\n",
    "        <li> Copy-paste your class code for <code>BreadthFirstSearch</code> from workbook2 into the empty cell below. Then run that cell and the one after so you can see if your code solves the maze.</li>\n",
    "    </ol>\n",
    "</div>"
   ]
  },
  {
   "cell_type": "markdown",
   "metadata": {},
   "source": [
    "<div class=\"alert alert-block alert-success\" style=\"color:black\"><b>Hints:</b>\n",
    "    If your code passed the tests for the <code>CombinationLock</code> problem last week it should work fine. If not:\n",
    "    <ul>\n",
    "        <li>Make sure the <code>__str__()</code> method must return the same string as I use in <code>test_on_maze()</code> above, e.g. 'depth-first' and 'breadth-first'</li>\n",
    "        <li>Rerun those cells to tell python to use the edited versions</li>\n",
    "        <li>Then rerun the test cells as necessary</li>\n",
    "        <li>You can turn on printing of the runlog in the test cells if it helps you debug your code</li>\n",
    "    </ul>\n",
    "</div>"
   ]
  },
  {
   "cell_type": "markdown",
   "metadata": {
    "tags": []
   },
   "source": [
    "### Copy-paste your class definition for Depth-first search into the code cell below then run it\n",
    "- it must have no comments or code outside the class definition or the marking server will not accept it."
   ]
  },
  {
   "cell_type": "code",
   "execution_count": 4,
   "metadata": {},
   "outputs": [
    {
     "name": "stdout",
     "output_type": "stream",
     "text": [
      "Overwriting studentcode/student_wb3.py\n"
     ]
    }
   ],
   "source": [
    "%%writefile \"studentcode/student_wb3.py\"\n",
    "\n",
    "from approvedimports import *\n",
    "\n",
    "class DepthFirstSearch(SingleMemberSearch):\n",
    "    \"\"\"your implementation of depth first search to extend\n",
    "    the superclass SingleMemberSearch search.\n",
    "    Adds  a __str__method\n",
    "    Over-rides the method select_and_move_from_openlist\n",
    "    to implement the algorithm\n",
    "    \"\"\"\n",
    "\n",
    "    def __str__(self):\n",
    "        return \"depth-first\"\n",
    "\n",
    "    def select_and_move_from_openlist(self) -> CandidateSolution:\n",
    "        \"\"\"void in superclass\n",
    "        In sub-classes should implement different algorithms\n",
    "        depending on what item it picks from self.open_list\n",
    "        and what it then does to the open list\n",
    "\n",
    "        Returns\n",
    "        -------\n",
    "        next working candidate (solution) taken from open list\n",
    "        \"\"\"\n",
    "\n",
    "        # create a candidate solution variable to hold the next solution\n",
    "        next_soln = CandidateSolution()\n",
    "\n",
    "        # ====> insert your pseudo-code and code below here\n",
    "\n",
    "        # Check if open_list is empty\n",
    "        if not self.open_list:\n",
    "            return None\n",
    "        \n",
    "        # pseudocode ====> my_index ← GetLastIndex(open_list)\n",
    "        my_index = len(self.open_list) - 1\n",
    "\n",
    "        # pseudocode ====> the_candidate ← open_list(my_index)\n",
    "        next_soln = self.open_list[my_index]\n",
    "\n",
    "        # pseudocode ====> RemoveFromOpenList(my_index)\n",
    "        self.open_list.pop(my_index)\n",
    "\n",
    "            \n",
    "\n",
    "        # <==== insert your pseudo-code and code above here\n",
    "        return next_soln"
   ]
  },
  {
   "cell_type": "code",
   "execution_count": 5,
   "metadata": {
    "tags": []
   },
   "outputs": [
    {
     "data": {
      "image/png": "[encoded data removed]",
      "text/plain": [
       "<Figure size 500x500 with 1 Axes>"
      ]
     },
     "metadata": {},
     "output_type": "display_data"
    },
    {
     "name": "stdout",
     "output_type": "stream",
     "text": [
      "search using depth-first algorithm successful after 408 attempts length of path is 77 moves.\n",
      "testing algorithm depth-first on the simple maze.\n",
      "test passed\n"
     ]
    }
   ],
   "source": [
    "# Run this cell to test your depth-first implementation\n",
    "from approvedimports import *\n",
    "\n",
    "import student_wb3 \n",
    "reload(student_wb3)\n",
    "\n",
    "print(\"Testing Depth-First Search\")\n",
    "test_on_maze(student_wb3.DepthFirstSearch)"
   ]
  },
  {
   "cell_type": "markdown",
   "metadata": {
    "tags": []
   },
   "source": [
    "### Copy-paste your class definition for Breadth-first search into the code cell below then run it\n",
    "- it must have no comments or code outside the class definition or the marking server will not accept it."
   ]
  },
  {
   "cell_type": "code",
   "execution_count": 6,
   "metadata": {
    "tags": []
   },
   "outputs": [
    {
     "name": "stdout",
     "output_type": "stream",
     "text": [
      "Appending to studentcode/student_wb3.py\n"
     ]
    }
   ],
   "source": [
    "%%writefile -a \"studentcode/student_wb3.py\"\n",
    "\n",
    "class BreadthFirstSearch(SingleMemberSearch):\n",
    "    \"\"\"your implementation of depth first search to extend\n",
    "    the superclass SingleMemberSearch search.\n",
    "    Adds  a __str__method\n",
    "    Over-rides the method select_and_move_from_openlist\n",
    "    to implement the algorithm\n",
    "    \"\"\"\n",
    "\n",
    "    def __str__(self):\n",
    "        return \"breadth-first\"\n",
    "\n",
    "    def select_and_move_from_openlist(self) -> CandidateSolution:\n",
    "        \"\"\"Implements the breadth-first search algorithm\n",
    "\n",
    "        Returns\n",
    "        -------\n",
    "        next working candidate (solution) taken from open list\n",
    "        \"\"\"\n",
    "        # create a candidate solution variable to hold the next solution\n",
    "        next_soln = CandidateSolution()\n",
    "\n",
    "        # ====> insert your pseudo-code and code below here\n",
    "\n",
    "        # Check if open_list is empty\n",
    "        if not self.open_list:\n",
    "            return None\n",
    "        \n",
    "        # pseudocode ====> my_index ← GetFirstIndex (open_list)\n",
    "        my_index = 0\n",
    "\n",
    "        # pseudocode ====> the_candidate ← open_list(my_index)\n",
    "        next_soln = self.open_list[my_index]\n",
    "\n",
    "        # pseudocode ====> RemoveFromOpenList(my_index)\n",
    "        self.open_list.pop(my_index)\n",
    "        \n",
    "        # <==== insert your pseudo-code and code above here\n",
    "        return next_soln"
   ]
  },
  {
   "cell_type": "code",
   "execution_count": 7,
   "metadata": {
    "tags": []
   },
   "outputs": [
    {
     "data": {
      "image/png": "[encoded data removed]",
      "text/plain": [
       "<Figure size 500x500 with 1 Axes>"
      ]
     },
     "metadata": {},
     "output_type": "display_data"
    },
    {
     "name": "stdout",
     "output_type": "stream",
     "text": [
      "search using breadth-first algorithm successful after 1068 attempts length of path is 57 moves.\n",
      "testing algorithm breadth-first on the simple maze.\n",
      "test passed\n"
     ]
    }
   ],
   "source": [
    "# Run this cell to test your breath-first implementation\n",
    "reload(student_wb3)\n",
    "\n",
    "print(\"Testing Breadth-First Search\")\n",
    "test_on_maze(student_wb3.BreadthFirstSearch)"
   ]
  },
  {
   "cell_type": "markdown",
   "metadata": {},
   "source": [
    "<div style=\"background-color:black;width:100%;\"></div>"
   ]
  },
  {
   "cell_type": "markdown",
   "metadata": {},
   "source": [
    "# Part 2: Best-first and A-Star search\n",
    "\n",
    "Remember that both Best-first and A-Star are **informed** search algorithms, which means they also consider the 'quality' or 'cost' (or 'score') of a candidate solution when selecting which one to move from the openlist.\n",
    "\n",
    "Depending on the problem we might want to:\n",
    "- *maximise the quality* e.g. find the candidate solution with the highest quality on the openlist.\n",
    "- *minimise the cost* e.g. find the candidate solution with the lowest cost on the openlist.\n",
    "\n",
    "In the context of solving a maze:\n",
    "- **Best-first** finds the candidate solution that is closest to the goal e.g. it tries to *minimise* the distance to the goal.\n",
    "- **A-star** finds the candidate solution that is closest to the goal + has taken the fewest steps so far e.g. it tries to *minimise* the distance to the goal *and* the distance travelled so far. So a solution that took a shorter rout to reach the same place will be favoured."
   ]
  },
  {
   "cell_type": "markdown",
   "metadata": {},
   "source": [
    "<div class=\"alert alert-block alert-warning\" style=\"color:black\">\n",
    "<b>Refresher: finding things in a list with python according to some criteria</b><br>\n",
    "    A python list (let's call it <code>my_list</code>) holds a collection of objects, usually of the same type:\n",
    "    <ul>\n",
    "        <li> If you have a list <code>my_list</code> with <em>n</em> elements, then <i>len(myList) = n</i></li>\n",
    "        <li> This is true whether the elements are chars, ints, float, or objects of some class</li>\n",
    "    </ul>\n",
    "    If <code>my_list</code> holds elements (objects) of a type that has an attribute <i>cost</i>, and we want to find the index (position) of the element one with the lowest value, we do it with a loop.<br>\n",
    "    Start in position 0, then loop through every thing in the list one by one, looking at the value of <i>cost</i> in each element, remembering the position (index) of the one with the lowest <i>cost</i>.</p>\n",
    "    In code this looks like:\n",
    "    <pre lang=\"python\" style=\"background:#ECFFDC\">    \n",
    "   best_index = 0\n",
    "   <span style=\"color:green\">for</span> i <span style=\"color:green\">in range</span>(<span style=\"color:green\">len</span>(my_list)):\n",
    "       <span style=\"color:green\">if</span> my_list[i].cost < my_list[best_index].cost : \n",
    "           best_index = i\n",
    "   </pre>\n",
    "    So at the end of this process the variable <code>best_index</code> tells us the index of the \"best\" element in that list according to our choice criteria (minimising cost). If we want to use something else as our criteria, we just change the if statement.<br><br>\n",
    "    Sometimes you might choose to store the value <code> best_so_far = my_list[best_index].cost</code> and use that in the comparison (line 3 above) to make your code more readable (shorter lines).<br>\n",
    "    You just need to update <code>best_so_far</code> as well as <code>best_index</code> inside the <code>if</code> statement.<br><br>\n",
    "    So this different version of the code does the same thing but you may find it easier to understand.\n",
    "    <pre lang=\"python\" style=\"background:#ECFFDC\">\n",
    "    best_index = 0\n",
    "    best_so_far = my_list[0].cost\n",
    "    <span style=\"color:green\">for</span> index <span style=\"color:green\">in range</span>(len(my_list) ):\n",
    "        this_cost= my_list[index].cost\n",
    "        <span style=\"color:green\">if</span> this_cost < best_so_far: \n",
    "            best_index = index\n",
    "            best_so_far = this_cost\n",
    "    </pre>\n",
    "</div>"
   ]
  },
  {
   "cell_type": "markdown",
   "metadata": {},
   "source": [
    "<div class=\"alert alert-block alert-info\" style=\"color:black\"><h2>Activity 2: Implementing Best-First and A Star Search</h2>\n",
    "    <h3><b>40 marks</b> - 20 each for an implementation that passes the test below on the marking server</h3>\n",
    "    For both algorithms the cells below provide the pseudo-code, a partially completed implementation, and a test.<br> This activity requires you to complete the code to produce classes which implement the algorithms, using the pseudocode as your guide.<br>\n",
    "    <b>Completing this activity is very similar to those in workbook 2 for breadth and depth-first search.</b> You are just completing one function.\n",
    "    <br><br><b>How to get started:</b>\n",
    "    <ol>\n",
    "        <li>Complete the function <code>select_and_move_from_openlist()</code>.\n",
    "        <li>Start by copying the pseudo-code into the method as comments</li>\n",
    "        <li>Then insert one or two lines of code to implement each comment\n",
    "        <li> Your code should start by checking whether the openlist is empty\n",
    "            <ul>\n",
    "            <li> return <code>None</code> if openlist is empty</li>\n",
    "            <li> Otherwise select and return the appropriate item from the openlist </li>\n",
    "            </ul>\n",
    "        </li>\n",
    "    </ol>\n",
    " </div>"
   ]
  },
  {
   "cell_type": "markdown",
   "metadata": {},
   "source": [
    "<div class=\"alert alert-block alert-success\" style=\"color:black\"><b>Hints:</b> \n",
    "    <ul>\n",
    "        <li> Use the reminder above for how to select from a list by value</li>\n",
    "        <li> Remember that each instance of the class has an attribute <code>self.open_list</code> which contains instances of <code>CandidateSolution</code></li>\n",
    "        <li>All <code>CandidateSolution</code> have a <code>quality</code> and <code>variable_values</code></li>\n",
    "            <ul>\n",
    "                <li>The number of moves a candidate solution has made is the length of <code>variable_values</code></li>\n",
    "                <li>The distance to the goal is the <code>quality</code> (and this is calculated for you).\n",
    "            </ul>\n",
    "    </ul>\n",
    "</div>"
   ]
  },
  {
   "cell_type": "markdown",
   "metadata": {},
   "source": [
    "### Pseudocode for Best-First Search\n",
    "\n",
    "<div style=\"background:#F0FFFF;color:black\">\n",
    "<p style=\"color:darkredmargin-bottom:0pt\"><em>SelectAndMoveFromOpenList</em></p>\n",
    "<dl style=\"margin-top:0pt\">\n",
    "    <dt>&nbsp;&nbsp;&nbsp;<b>IF</b> IsEmpty( open_list) <b>THEN</b> </dt>\n",
    "    <dd> RETURN None</dd>\n",
    "    <dt> &nbsp;&nbsp;&nbsp;<b>ELSE</b></dt>\n",
    "    <dd>bestChild &larr; <b>GetMemberWithHighestQuality</b>(openList)</dd>\n",
    "    <dd> RETURN bestChild&nbsp;&nbsp;&nbsp;&nbsp;<span style=\"background:pink\">Best-First keeps the openlist to allow backtracking</span></dd>\n",
    "</dl>\n",
    "</div>   "
   ]
  },
  {
   "cell_type": "code",
   "execution_count": 8,
   "metadata": {},
   "outputs": [
    {
     "name": "stdout",
     "output_type": "stream",
     "text": [
      "Appending to studentcode/student_wb3.py\n"
     ]
    }
   ],
   "source": [
    "%%writefile -a \"studentcode/student_wb3.py\"\n",
    "\n",
    "class BestFirstSearch(SingleMemberSearch):\n",
    "    \"\"\"Implementation of Best-First search.\"\"\"\n",
    "\n",
    "    def __str__(self):\n",
    "        return \"best-first\"\n",
    "\n",
    "    def select_and_move_from_openlist(self) -> CandidateSolution:\n",
    "        \"\"\"Implements Best First by finding, popping and returning member from openlist\n",
    "        with best quality.\n",
    "\n",
    "        Returns\n",
    "        -------\n",
    "        next working candidate (solution) taken from openlist\n",
    "        \"\"\"\n",
    "\n",
    "        # create a candidate solution variable to hold the next solution\n",
    "        next_soln = CandidateSolution()\n",
    "\n",
    "        # ====> insert your pseudo-code and code below here\n",
    "        if not self.open_list:\n",
    "            return None\n",
    "        \n",
    "        # pseudocode ====> ELSE bestChild = GetMemberWithHighestQuality (openList)\n",
    "        best_index = 0\n",
    "        best_quality = self.open_list[0].quality\n",
    "\n",
    "        for i in range(1, len(self.open_list)):\n",
    "            current_quality = self.open_list[i].quality\n",
    "\n",
    "            if self.minimise:\n",
    "                if current_quality < best_quality:\n",
    "                    best_quality = current_quality\n",
    "                    best_index = i\n",
    "            else:\n",
    "                if current_quality > best_quality:\n",
    "                    best_quality = current_quality\n",
    "                    best_index = i\n",
    "\n",
    "        # Remove and return the best child\n",
    "        best_child = self.open_list.pop(best_index)\n",
    "        return best_child\n",
    "\n",
    "            \n",
    "        # <==== insert your pseudo-code and code above here\n",
    "        return next_soln"
   ]
  },
  {
   "cell_type": "code",
   "execution_count": 9,
   "metadata": {
    "tags": []
   },
   "outputs": [
    {
     "data": {
      "image/png": "[encoded data removed]",
      "text/plain": [
       "<Figure size 500x500 with 1 Axes>"
      ]
     },
     "metadata": {},
     "output_type": "display_data"
    },
    {
     "name": "stdout",
     "output_type": "stream",
     "text": [
      "search using best-first algorithm successful after 856 attempts length of path is 57 moves.\n",
      "testing algorithm best-first on the simple maze.\n",
      "test passed\n"
     ]
    }
   ],
   "source": [
    "# Run this to test your Best-First implementation\n",
    "reload(student_wb3)\n",
    "\n",
    "print(\"Testing Best-First Search\")\n",
    "test_on_maze(student_wb3.BestFirstSearch)"
   ]
  },
  {
   "cell_type": "markdown",
   "metadata": {
    "tags": []
   },
   "source": [
    "### Pseudocode for A-Star Search\n",
    "\n",
    "<div style=\"background:#F0FFFF;color:black\">\n",
    "<p style=\"color:darkred;margin-bottom:0pt\"><em>SelectAndMoveFromOpenList</em></p>\n",
    "<dl style=\"margin-top:0pt\">\n",
    "    <dt>&nbsp;&nbsp;&nbsp;<b>IF</b> IsEmpty( open_list) <b>THEN</b> </dt>\n",
    "    <dd> RETURN None</dd>\n",
    "    <dt> &nbsp;&nbsp;&nbsp;<b>ELSE</b></dt>\n",
    "    <dd><span style=\"background:pink\">AStar picks using sum of quality +cost</span></dd>\n",
    "    <dd>bestChild &larr; <b>GetMemberWithHighestCombinedScore</b>(openList)</dd>\n",
    "    <dd> RETURN bestChild&nbsp;&nbsp;&nbsp;&nbsp;</dd>\n",
    "</dl>\n",
    "</div>"
   ]
  },
  {
   "cell_type": "markdown",
   "metadata": {},
   "source": [
    "<div class=\"alert alert-block alert-success\" style=\"color:black\"><b>Hints:</b><br>\n",
    "    This is just like best-first with a modified selection. To make more efficient you can track <i>bestSoFar</i> and modify <code>UpdateWorkingMemory()</code> so it doesn't put things on the openlist if depth > bestSoFar.\n",
    "</div>"
   ]
  },
  {
   "cell_type": "code",
   "execution_count": 10,
   "metadata": {},
   "outputs": [
    {
     "name": "stdout",
     "output_type": "stream",
     "text": [
      "Appending to studentcode/student_wb3.py\n"
     ]
    }
   ],
   "source": [
    "%%writefile -a \"studentcode/student_wb3.py\"\n",
    "\n",
    "class AStarSearch(SingleMemberSearch):\n",
    "    \"\"\"Implementation of A-Star  search.\"\"\"\n",
    "\n",
    "    def __str__(self):\n",
    "        return \"A Star\"\n",
    "\n",
    "    def select_and_move_from_openlist(self) -> CandidateSolution:\n",
    "        \"\"\"Implements A-Star by finding, popping and returning member from openlist\n",
    "        with lowest combined length+quality.\n",
    "\n",
    "        Returns\n",
    "        -------\n",
    "        next working candidate (solution) taken from openlist\n",
    "        \"\"\"\n",
    "        \n",
    "        # create a candidate solution variable to hold the next solution\n",
    "        next_soln = CandidateSolution()\n",
    "\n",
    "        # ====> insert your pseudo-code and code below here\n",
    "\n",
    "        if not self.open_list:\n",
    "            return None\n",
    "        \n",
    "        # pseudocode ====> bestChild GetMemberWithHighestCombinedScore(openList)\n",
    "        best_index = 0\n",
    "        best_combined = self.open_list[0].quality + len(self.open_list[0].variable_values)\n",
    "\n",
    "        for i in range(1, len(self.open_list)):\n",
    "            current_quality = self.open_list[i].quality\n",
    "            current_cost = len(self.open_list[i].variable_values)\n",
    "            current_combined = current_quality + current_cost\n",
    "\n",
    "            # Minimize combined score\n",
    "            if current_combined < best_combined:\n",
    "                best_combined = current_combined\n",
    "                best_index = i\n",
    "\n",
    "        # pseudocode ====>RETURN bestChild\n",
    "        best_child = self.open_list.pop(best_index)\n",
    "        return best_child\n",
    "\n",
    "\n",
    "        # <==== insert your pseudo-code and code above here\n",
    "        return next_soln"
   ]
  },
  {
   "cell_type": "code",
   "execution_count": 11,
   "metadata": {
    "tags": []
   },
   "outputs": [
    {
     "data": {
      "image/png": "[encoded data removed]",
      "text/plain": [
       "<Figure size 500x500 with 1 Axes>"
      ]
     },
     "metadata": {},
     "output_type": "display_data"
    },
    {
     "name": "stdout",
     "output_type": "stream",
     "text": [
      "search using A Star algorithm successful after 812 attempts length of path is 57 moves.\n",
      "testing algorithm A Star on the simple maze.\n",
      "test passed\n"
     ]
    }
   ],
   "source": [
    "# Run this to test your A-star implementation\n",
    "reload(student_wb3)\n",
    "\n",
    "print('Testing A-star Search')\n",
    "test_on_maze(student_wb3.AStarSearch)"
   ]
  },
  {
   "cell_type": "markdown",
   "metadata": {},
   "source": [
    "<div style=\"background-color:black;width:100%;\"></div>"
   ]
  },
  {
   "cell_type": "markdown",
   "metadata": {},
   "source": [
    "# Part 3: Testing your understanding"
   ]
  },
  {
   "cell_type": "markdown",
   "metadata": {},
   "source": [
    "<div class=\"alert alert-block alert-info\" style=\"color:black\"><h2>Activity 3: Testing your understanding</h2>\n",
    "    <h3><b>20 marks</b></h3>\n",
    "    Run the cell below and answer the questions then press the <b>check</b> button to check your answers. When you submit your jupyter notebook for automated marking via blackboard, there will be similar questions for you to answer online.\n",
    "</div>"
   ]
  },
  {
   "cell_type": "code",
   "execution_count": 12,
   "metadata": {},
   "outputs": [
    {
     "data": {
      "application/vnd.jupyter.widget-view+json": {
       "model_id": "d16e827a689f459790a847bba99741fa",
       "version_major": 2,
       "version_minor": 0
      },
      "text/plain": [
       "VBox(children=(Output(), RadioButtons(layout=Layout(height='auto', width='auto'), options=(('Constructive', 0)…"
      ]
     },
     "metadata": {},
     "output_type": "display_data"
    },
    {
     "data": {
      "application/vnd.jupyter.widget-view+json": {
       "model_id": "2254f48cec314028a4fdd26ee85d3f46",
       "version_major": 2,
       "version_minor": 0
      },
      "text/plain": [
       "VBox(children=(Output(), RadioButtons(layout=Layout(height='auto', width='auto'), options=(('Depth-First', 0),…"
      ]
     },
     "metadata": {},
     "output_type": "display_data"
    },
    {
     "data": {
      "application/vnd.jupyter.widget-view+json": {
       "model_id": "7213c9d3e2dd43709341d3f52ec9113d",
       "version_major": 2,
       "version_minor": 0
      },
      "text/plain": [
       "VBox(children=(Output(), RadioButtons(layout=Layout(height='auto', width='auto'), options=(('depth-first was b…"
      ]
     },
     "metadata": {},
     "output_type": "display_data"
    },
    {
     "data": {
      "application/vnd.jupyter.widget-view+json": {
       "model_id": "704e3b59cd69421baf6a6301b7c681db",
       "version_major": 2,
       "version_minor": 0
      },
      "text/plain": [
       "VBox(children=(Output(), RadioButtons(layout=Layout(height='auto', width='auto'), options=(('Depth-First', 0),…"
      ]
     },
     "metadata": {},
     "output_type": "display_data"
    },
    {
     "data": {
      "application/vnd.jupyter.widget-view+json": {
       "model_id": "9bbdf3e27cf440b3b1c84ad5daa9dd68",
       "version_major": 2,
       "version_minor": 0
      },
      "text/plain": [
       "VBox(children=(Output(), RadioButtons(layout=Layout(height='auto', width='auto'), options=(('yes', 0), ('no', …"
      ]
     },
     "metadata": {},
     "output_type": "display_data"
    },
    {
     "data": {
      "application/vnd.jupyter.widget-view+json": {
       "model_id": "9b5b507909304ddcbe1124cd7816dcce",
       "version_major": 2,
       "version_minor": 0
      },
      "text/plain": [
       "VBox(children=(Output(), RadioButtons(layout=Layout(height='auto', width='auto'), options=(('yes', 0), ('no', …"
      ]
     },
     "metadata": {},
     "output_type": "display_data"
    },
    {
     "data": {
      "application/vnd.jupyter.widget-view+json": {
       "model_id": "735094123db44ff6a8f211cbb50b1f17",
       "version_major": 2,
       "version_minor": 0
      },
      "text/plain": [
       "VBox(children=(Output(), RadioButtons(layout=Layout(height='auto', width='auto'), options=(('yes', 0), ('no', …"
      ]
     },
     "metadata": {},
     "output_type": "display_data"
    },
    {
     "data": {
      "application/vnd.jupyter.widget-view+json": {
       "model_id": "bb201d09ecbd4cb7936e01485db486fe",
       "version_major": 2,
       "version_minor": 0
      },
      "text/plain": [
       "VBox(children=(Output(), RadioButtons(layout=Layout(height='auto', width='auto'), options=(('1: Choosing a val…"
      ]
     },
     "metadata": {},
     "output_type": "display_data"
    }
   ],
   "source": [
    "import workbook3_utils as wb3\n",
    "\n",
    "reload(wb3)\n",
    "display(wb3.Q1)\n",
    "display(wb3.Q2)\n",
    "display(wb3.Q3)\n",
    "display(wb3.Q4)\n",
    "display(wb3.Q5)\n",
    "display(wb3.Q6)\n",
    "display(wb3.Q7)\n",
    "display(wb3.Q8)"
   ]
  },
  {
   "cell_type": "markdown",
   "metadata": {},
   "source": [
    "### Editing the maze to add or remove walls\n",
    "\n",
    "The next two cells below illustrate how to create a new instances of the path-finding problem by changing walls into paths or vice-versa. They show a 'before and after' display of how to make a hole in a wall and place a new wall, by setting a value in `.contents` array (first index is row, second column).\n",
    "\n",
    "The third cell shows how to save an edited maze to file and then checks it loads properly into a new maze object."
   ]
  },
  {
   "cell_type": "code",
   "execution_count": 13,
   "metadata": {},
   "outputs": [
    {
     "data": {
      "image/png": "[encoded data removed]",
      "text/plain": [
       "<Figure size 500x500 with 1 Axes>"
      ]
     },
     "metadata": {},
     "output_type": "display_data"
    },
    {
     "data": {
      "image/png": "[encoded data removed]",
      "text/plain": [
       "<Figure size 500x500 with 1 Axes>"
      ]
     },
     "metadata": {},
     "output_type": "display_data"
    }
   ],
   "source": [
    "# Set the wall colour and the hole colour\n",
    "wall_colour= 0.0\n",
    "hole_colour = 1.0\n",
    "\n",
    "# Load original maze\n",
    "hole_in_wall = Maze(mazefile=\"maze.txt\")\n",
    "\n",
    "# make a hole in a wall, one place to the right of the entrance, three blocks down\n",
    "hole_in_wall.contents[2][10] = hole_colour\n",
    "_ = hole_in_wall.show_maze()"
   ]
  },
  {
   "cell_type": "code",
   "execution_count": 14,
   "metadata": {},
   "outputs": [
    {
     "data": {
      "image/png": "[encoded data removed]",
      "text/plain": [
       "<Figure size 500x500 with 1 Axes>"
      ]
     },
     "metadata": {},
     "output_type": "display_data"
    },
    {
     "data": {
      "image/png": "[encoded data removed]",
      "text/plain": [
       "<Figure size 500x500 with 1 Axes>"
      ]
     },
     "metadata": {},
     "output_type": "display_data"
    }
   ],
   "source": [
    "# Load original maze\n",
    "new_wall = Maze(mazefile=\"maze.txt\")\n",
    "\n",
    "# place a new wall, 2 rows down and three columns to the right of the entrance\n",
    "new_wall.contents[2][13] = wall_colour\n",
    "new_wall.show_maze()"
   ]
  },
  {
   "cell_type": "code",
   "execution_count": 15,
   "metadata": {},
   "outputs": [
    {
     "name": "stdout",
     "output_type": "stream",
     "text": [
      "this is the reloaded maze\n"
     ]
    },
    {
     "data": {
      "image/png": "[encoded data removed]",
      "text/plain": [
       "<Figure size 500x500 with 1 Axes>"
      ]
     },
     "metadata": {},
     "output_type": "display_data"
    },
    {
     "name": "stdout",
     "output_type": "stream",
     "text": [
      "the reloaded maze matches the version still in memory\n"
     ]
    }
   ],
   "source": [
    "# saving and reloading mazes \n",
    "\n",
    "# save edited maze to new file\n",
    "new_wall.save_to_txt(\"maze-newwall.txt\")\n",
    "\n",
    "# reload into new maze object\n",
    "print('this is the reloaded maze')\n",
    "reloaded_maze = Maze(mazefile=\"maze-newwall.txt\")\n",
    "\n",
    "# test they have the same contents\n",
    "assert reloaded_maze.contents == new_wall.contents\n",
    "print(\"the reloaded maze matches the version still in memory\")"
   ]
  },
  {
   "cell_type": "markdown",
   "metadata": {},
   "source": [
    "<div class=\"alert alert-block alert-info\" style=\"color:black\"><h2>Activity 4: Testing your understanding by creating new instances to break algorithms</h2>\n",
    "    <h3><b>10 Marks</b> - 5 for each new maze</h3>\n",
    "    Experiment with creating new mazes then combine and adapt the code snippets above to:\n",
    "    <ol>\n",
    "        <li> Create a maze in which depth-first search never finds the goal state but breadth-first does.\n",
    "            <ul><li>save the new maze to file called <i>maze-breaks-depth.txt</i></li></ul>\n",
    "        <li> Create a maze in which depth-first finds a path to the goal with the same length as the one found by breadth-first search, but using fewer trials.</li>\n",
    "            <ul><li>save the new maze to file called <i>maze-depth-better.txt</i></li></ul>\n",
    "        <li> On the marking server you will be asked to upload these two files.</li>\n",
    "    </ol>\n",
    "</div>"
   ]
  },
  {
   "cell_type": "markdown",
   "metadata": {},
   "source": [
    "<div class=\"alert alert-block alert-success\" style=\"color:black\"><b>Hints:</b><br>\n",
    "    <ul>\n",
    "        <li>The code on the marking server does not have the method <code>show_maze()</code>. So you can use this method while you develop your mazes, but <b>you must comment this out before you submit.</b></li>\n",
    "        <li>Because we can't guess your maze design, the first test will take a while to run.\n",
    "            <ul>\n",
    "                <li>you can speed it up by editing line 107 for maze.py to reduce the delay between maze refreshes</li>\n",
    "                <li>then re-run the first code cell in the notebook to reimport maze.py</li>\n",
    "            </ul>\n",
    "        </li>\n",
    "    </ul>\n",
    "</div>"
   ]
  },
  {
   "cell_type": "code",
   "execution_count": 16,
   "metadata": {},
   "outputs": [
    {
     "name": "stdout",
     "output_type": "stream",
     "text": [
      "Appending to studentcode/student_wb3.py\n"
     ]
    }
   ],
   "source": [
    "%%writefile -a \"studentcode/student_wb3.py\"\n",
    "wall_colour= 0.0\n",
    "hole_colour = 1.0\n",
    "\n",
    "def create_maze_breaks_depthfirst():\n",
    "    # ====> insert your code below here\n",
    "    #remember to comment out any mention of show_maze() before you submit your work\n",
    "\n",
    "     # Load base maze\n",
    "    maze = Maze(mazefile=\"maze.txt\")\n",
    "\n",
    "    maze.contents[3][4] = hole_colour  # Open path to trick DFS\n",
    "    maze.contents[8][4] = wall_colour  # Block DFS at the end\n",
    "\n",
    "    maze.contents[10][6] = hole_colour  # Another DFS trap\n",
    "    maze.contents[14][6] = wall_colour  # Dead-end\n",
    "    maze.contents[16][1] = hole_colour  # Dead-end\n",
    "    maze.contents[19][4] = hole_colour  # Dead-end\n",
    "\n",
    "    maze.contents[8][1] = hole_colour\n",
    "    maze.contents[12][9] = wall_colour\n",
    "    maze.contents[11][12] = wall_colour\n",
    "    maze.contents[9][2] = wall_colour\n",
    "    maze.contents[10][19] = wall_colour\n",
    "    maze.contents[18][5] = wall_colour\n",
    "    \n",
    "    # Save the maze\n",
    "    maze.save_to_txt(\"maze-breaks-depth.txt\")\n",
    "\n",
    "    # reload into new maze object\n",
    "    print('this is the reloaded maze')\n",
    "    reloaded_maze = Maze(mazefile=\"maze-breaks-depth.txt\")\n",
    "    \n",
    "    # <==== insert your code above here"
   ]
  },
  {
   "cell_type": "code",
   "execution_count": 17,
   "metadata": {},
   "outputs": [
    {
     "data": {
      "image/png": "[encoded data removed]",
      "text/plain": [
       "<Figure size 500x500 with 1 Axes>"
      ]
     },
     "metadata": {},
     "output_type": "display_data"
    },
    {
     "name": "stdout",
     "output_type": "stream",
     "text": [
      "search using breadth-first algorithm successful after 816 attempts length of path is 41 moves.\n",
      " your maze defeates depth-first search breadth-first can solve your maze in 816 trialstest passed\n"
     ]
    }
   ],
   "source": [
    "def test_maze_that_breaks_depthfirst():\n",
    "    \n",
    "    outstr= \"\"\n",
    "    #depth first should not complete the maze\n",
    "    depth_behaviour = run_on_maze(student_wb3.DepthFirstSearch, show_runlog=False,mazefile='maze-breaks-depth.txt') \n",
    "    assert depth_behaviour[1] == -1,' depth first should not finish on the maze'\n",
    "    assert depth_behaviour[0] == -1,' depth first should be terminated after 1500 trials'\n",
    "    outstr +=' your maze defeates depth-first search '\n",
    "    \n",
    "    #breadth first should\n",
    "    breadth_behaviour = run_on_maze(student_wb3.BreadthFirstSearch, show_runlog=False,mazefile='maze-breaks-depth.txt') \n",
    "    assert breadth_behaviour[0] >0, ' breadth first should solve maze after enough trials'\n",
    "    assert breadth_behaviour[1] >0, ' breadth first should solve maze with path >0 moves'\n",
    "    outstr += f'breadth-first can solve your maze in {breadth_behaviour[0]} trials'\n",
    "    outstr +='test passed'\n",
    "    print(outstr)\n",
    "\n",
    "#getting latest saved version of your code\n",
    "reload(student_wb3)\n",
    "student_wb3.create_maze_breaks_depthfirst()\n",
    "test_maze_that_breaks_depthfirst()"
   ]
  },
  {
   "cell_type": "code",
   "execution_count": 18,
   "metadata": {},
   "outputs": [
    {
     "name": "stdout",
     "output_type": "stream",
     "text": [
      "Appending to studentcode/student_wb3.py\n"
     ]
    }
   ],
   "source": [
    "%%writefile -a \"studentcode/student_wb3.py\"\n",
    "\n",
    "def create_maze_depth_better():\n",
    "    # ====> insert your code below here\n",
    "    #remember to comment out any mention of show_maze() before you submit your work\n",
    "\n",
    "    maze = Maze(mazefile=\"maze.txt\")\n",
    "    maze.contents[1][8] = wall_colour\n",
    "    maze.contents[9][10] = wall_colour\n",
    "    maze.contents[15][6] = wall_colour\n",
    "    maze.contents[13][2] = wall_colour\n",
    "    maze.contents[12][13] = wall_colour\n",
    "    maze.contents[2][13] = wall_colour\n",
    "    maze.save_to_txt(\"maze-depth-better.txt\")\n",
    "\n",
    "    # <==== insert your code above here"
   ]
  },
  {
   "cell_type": "code",
   "execution_count": 19,
   "metadata": {},
   "outputs": [
    {
     "data": {
      "image/png": "[encoded data removed]",
      "text/plain": [
       "<Figure size 500x500 with 1 Axes>"
      ]
     },
     "metadata": {},
     "output_type": "display_data"
    },
    {
     "name": "stdout",
     "output_type": "stream",
     "text": [
      "search using breadth-first algorithm successful after 456 attempts length of path is 57 moves.\n",
      "both find goal state and depth-first path is as good or shorter\n",
      "depth- first needs fewer attempts\n",
      "test passed - you designed your maze well\n"
     ]
    }
   ],
   "source": [
    "def test_maze_depth_better():\n",
    "    depth_behaviour = run_on_maze(student_wb3.DepthFirstSearch, show_runlog=False,mazefile='maze-depth-better.txt')\n",
    "    breadth_behaviour = run_on_maze(student_wb3.BreadthFirstSearch, show_runlog=False,mazefile='maze-depth-better.txt') \n",
    "    \n",
    "    #should both find the goal state\n",
    "    #but I can't know how long the path is on your maze\n",
    "    assert depth_behaviour[1] != -1, 'error: depth first is not finding the goal state'\n",
    "    assert breadth_behaviour[1] != -1, 'error: breadth first is not finding the goal state'\n",
    "    assert depth_behaviour[1] <= breadth_behaviour[1], 'error: depth first should not find a longer path'\n",
    "    print('both find goal state and depth-first path is as good or shorter')\n",
    "    \n",
    "    # depth first should use fewer trials\n",
    "    assert depth_behaviour[0] != -1, 'error: depth first is not finding the goal state'\n",
    "    assert breadth_behaviour[0]!= -1, 'error: breadth first is not finding the goal state'\n",
    "    assert depth_behaviour[0] < breadth_behaviour[0], 'error: depth first should take fewer trials'\n",
    "    print('depth- first needs fewer attempts')\n",
    "    print('test passed - you designed your maze well')\n",
    "\n",
    "#getting latest saved version of your code\n",
    "reload(student_wb3)\n",
    "student_wb3.create_maze_depth_better()\n",
    "test_maze_depth_better()"
   ]
  },
  {
   "cell_type": "markdown",
   "metadata": {},
   "source": [
    "<div class=\"alert alert-block alert-success\" style=\"color:black\"><b>Save and close Jupyter:</b>\n",
    "    <ol>\n",
    "        <li>Use the jupyterlab functions to download your work (ask your tutor if you need help with this) and save it somewhere sensible so you can find it easily.</li>\n",
    "        <li>Shutdown the notebook when you have finished with this tutorial (menu->file->close and shutdown notebook)</li>\n",
    "    </ol>\n",
    "</div>"
   ]
  }
 ],
 "metadata": {
  "kernelspec": {
   "display_name": "base",
   "language": "python",
   "name": "python3"
  },
  "language_info": {
   "codemirror_mode": {
    "name": "ipython",
    "version": 3
   },
   "file_extension": ".py",
   "mimetype": "text/x-python",
   "name": "python",
   "nbconvert_exporter": "python",
   "pygments_lexer": "ipython3",
   "version": "3.12.7"
  }
 },
 "nbformat": 4,
 "nbformat_minor": 4
}
